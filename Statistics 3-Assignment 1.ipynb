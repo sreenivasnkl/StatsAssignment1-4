{
 "cells": [
  {
   "cell_type": "markdown",
   "metadata": {},
   "source": [
    "Problem Statement 1:\n",
    "Blood glucose levels for obese patients have a mean of 100 with a standard deviation of\n",
    "15. A researcher thinks that a diet high in raw cornstarch will have a positive effect on\n",
    "blood glucose levels. A sample of 36 patients who have tried the raw cornstarch diet\n",
    "have a mean glucose level of 108. Test the hypothesis that the raw cornstarch had an\n",
    "effect or not."
   ]
  },
  {
   "cell_type": "code",
   "execution_count": 1,
   "metadata": {},
   "outputs": [],
   "source": [
    "\n",
    "import scipy.stats as stats\n",
    "import matplotlib.pyplot as plt\n",
    "import math as math\n",
    "import numpy as np"
   ]
  },
  {
   "cell_type": "code",
   "execution_count": 2,
   "metadata": {},
   "outputs": [
    {
     "data": {
      "text/plain": [
       "(array([2., 2., 7., 9., 5., 5., 3., 1., 1., 1.]),\n",
       " array([103.38456023, 104.54882347, 105.71308671, 106.87734995,\n",
       "        108.0416132 , 109.20587644, 110.37013968, 111.53440292,\n",
       "        112.69866617, 113.86292941, 115.02719265]),\n",
       " <a list of 10 Patch objects>)"
      ]
     },
     "execution_count": 2,
     "metadata": {},
     "output_type": "execute_result"
    },
    {
     "data": {
      "image/png": "[encoded data removed]",
      "text/plain": [
       "<Figure size 432x288 with 1 Axes>"
      ]
     },
     "metadata": {
      "needs_background": "light"
     },
     "output_type": "display_data"
    }
   ],
   "source": [
    "sampleValues = stats.norm.rvs(loc=108, scale=15/6, size=36)\n",
    "plt.hist(sampleValues)"
   ]
  },
  {
   "cell_type": "code",
   "execution_count": 3,
   "metadata": {},
   "outputs": [
    {
     "name": "stdout",
     "output_type": "stream",
     "text": [
      "With 95% significance level, we can say that sample mean is not    different than population mean with pvalue = 4.063434035621146e-21\n"
     ]
    }
   ],
   "source": [
    "_, pvalue = stats.ttest_1samp(sampleValues, 100)\n",
    "\n",
    "if(pvalue < 0.025): \n",
    "    print('With 95% significance level, we can say that sample mean is not\\\n",
    "    different than population mean with pvalue = {}'.format(pvalue))"
   ]
  },
  {
   "cell_type": "markdown",
   "metadata": {},
   "source": [
    "Problem Statement 2:\n",
    "In one state, 52% of the voters are Republicans, and 48% are Democrats. In a second\n",
    "state, 47% of the voters are Republicans, and 53% are Democrats. Suppose a simple\n",
    "random sample of 100 voters are surveyed from each state.\n",
    "What is the probability that the survey will show a greater percentage of Republican\n",
    "voters in the second state than in the first state?"
   ]
  },
  {
   "cell_type": "code",
   "execution_count": 4,
   "metadata": {},
   "outputs": [],
   "source": [
    "State1 = stats.norm.rvs(loc=52, scale=1, size=100, random_state=12345)\n",
    "State2 = stats.norm.rvs(loc=47, scale=1, size=100, random_state=12345)"
   ]
  },
  {
   "cell_type": "code",
   "execution_count": 5,
   "metadata": {},
   "outputs": [
    {
     "data": {
      "text/plain": [
       "(array([ 5.,  6., 15., 13., 27., 17., 11.,  4.,  1.,  1.]),\n",
       " array([44.62976835, 45.1916859 , 45.75360346, 46.31552102, 46.87743858,\n",
       "        47.43935613, 48.00127369, 48.56319125, 49.1251088 , 49.68702636,\n",
       "        50.24894392]),\n",
       " <a list of 10 Patch objects>)"
      ]
     },
     "execution_count": 5,
     "metadata": {},
     "output_type": "execute_result"
    },
    {
     "data": {
      "image/png": "[encoded data removed]",
      "text/plain": [
       "<Figure size 432x288 with 1 Axes>"
      ]
     },
     "metadata": {
      "needs_background": "light"
     },
     "output_type": "display_data"
    }
   ],
   "source": [
    "plt.hist(State1)\n",
    "plt.hist(State2)"
   ]
  },
  {
   "cell_type": "code",
   "execution_count": 6,
   "metadata": {},
   "outputs": [],
   "source": [
    "_,pvalue = stats.ttest_ind(State1, State2, equal_var=False)\n"
   ]
  },
  {
   "cell_type": "code",
   "execution_count": 7,
   "metadata": {},
   "outputs": [
    {
     "name": "stdout",
     "output_type": "stream",
     "text": [
      "With 95% significance level, we can conclude that two sample means are equal with pvalue = 1.4369621006594201e-84\n",
      "So probability of getting higher number of Republic in State2 than in State1 is 0\n"
     ]
    }
   ],
   "source": [
    "if(pvalue < 0.025): \n",
    "    print('With 95% significance level, we can conclude that two sample means are equal with pvalue = {}'.format(pvalue))\n",
    "    print('So probability of getting higher number of Republic in State2 than in State1 is 0')"
   ]
  },
  {
   "cell_type": "markdown",
   "metadata": {},
   "source": [
    "Problem Statement 3:\n",
    "You take the SAT and score 1100. The mean score for the SAT is 1026 and the standard\n",
    "deviation is 209. How well did you score on the test compared to the average test taker?"
   ]
  },
  {
   "cell_type": "code",
   "execution_count": 8,
   "metadata": {},
   "outputs": [],
   "source": [
    "popScores = stats.norm.rvs(loc=1026, scale=209, size=100, random_state=12345)"
   ]
  },
  {
   "cell_type": "code",
   "execution_count": 9,
   "metadata": {},
   "outputs": [],
   "source": [
    "_, pvalue = stats.ttest_1samp(popScores, 1100)"
   ]
  },
  {
   "cell_type": "code",
   "execution_count": 10,
   "metadata": {},
   "outputs": [
    {
     "name": "stdout",
     "output_type": "stream",
     "text": [
      "With 95% significance level, I scored like an average student with pvalue = 0.00267644145112024\n"
     ]
    }
   ],
   "source": [
    "if(pvalue < 0.025):\n",
    "    print('With 95% significance level, I scored like an average student with pvalue = {}'.format(pvalue))\n",
    "else:\n",
    "    print('With 95% significance level, I scored better than average student with pvalue = {}'.format(pvalue))"
   ]
  },
  {
   "cell_type": "code",
   "execution_count": null,
   "metadata": {},
   "outputs": [],
   "source": []
  }
 ],
 "metadata": {
  "kernelspec": {
   "display_name": "Python 3",
   "language": "python",
   "name": "python3"
  },
  "language_info": {
   "codemirror_mode": {
    "name": "ipython",
    "version": 3
   },
   "file_extension": ".py",
   "mimetype": "text/x-python",
   "name": "python",
   "nbconvert_exporter": "python",
   "pygments_lexer": "ipython3",
   "version": "3.7.1"
  }
 },
 "nbformat": 4,
 "nbformat_minor": 2
}
