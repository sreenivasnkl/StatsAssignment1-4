{
 "cells": [
  {
   "cell_type": "markdown",
   "metadata": {},
   "source": [
    "A test is conducted which is consisting of 20 MCQs (multiple choices questions) with every\n",
    "MCQ having its four options out of which only one is correct. Determine the probability that a person undertaking that test has answered exactly 5 questions wrong."
   ]
  },
  {
   "cell_type": "code",
   "execution_count": 3,
   "metadata": {},
   "outputs": [
    {
     "name": "stdout",
     "output_type": "stream",
     "text": [
      "Probability of exactly 5 wrong out of 20 questions is  3.4264958230778575e-06\n"
     ]
    }
   ],
   "source": [
    "\n",
    "from scipy.special import comb\n",
    "def test(p,q,n,r):\n",
    "    cmb = comb(20,5)\n",
    "    prb = cmb * (p**r) * (q**(n-r))\n",
    "    return prb\n",
    "\n",
    "prob = test(3/4,1/4,20,5)\n",
    "print(\"Probability of exactly 5 wrong out of 20 questions is \", prob)"
   ]
  },
  {
   "cell_type": "markdown",
   "metadata": {},
   "source": [
    "Problem Statement 2:\n",
    "A die marked A to E is rolled 50 times. Find the probability of getting a “D” exactly\n",
    "5 times."
   ]
  },
  {
   "cell_type": "code",
   "execution_count": 4,
   "metadata": {},
   "outputs": [
    {
     "name": "stdout",
     "output_type": "stream",
     "text": [
      "Probability of getting 'D' exactly 5 times is  0.029531204310524296\n"
     ]
    }
   ],
   "source": [
    "def Dprob(p,q,n,r):\n",
    "    cmb = comb(50,5)\n",
    "    prb = cmb * (p**r) * (q**(n-r))\n",
    "    return prb\n",
    "\n",
    "prob = Dprob(1/5,4/5,50,5)\n",
    "print(\"Probability of getting 'D' exactly 5 times is \", prob)"
   ]
  },
  {
   "cell_type": "markdown",
   "metadata": {},
   "source": [
    "Problem Statement 3:\n",
    "Two balls are drawn at random in succession without replacement from an urn\n",
    "containing 4 red balls and 6 black balls.\n",
    "Find the probabilities of all the possible outcomes."
   ]
  },
  {
   "cell_type": "markdown",
   "metadata": {},
   "source": [
    "\n",
    "    "
   ]
  },
  {
   "cell_type": "code",
   "execution_count": 5,
   "metadata": {},
   "outputs": [
    {
     "name": "stdout",
     "output_type": "stream",
     "text": [
      "Probability of getting RR is  0.13333333333333336\n",
      "Probability of getting BB is  0.3333333333333333\n",
      "Probability of getting RB is  0.2666666666666667\n",
      "Probability of getting BR is  0.26666666666666666\n"
     ]
    }
   ],
   "source": [
    "print(\"Probability of getting RR is \", (4/10 * 3/9))\n",
    "print(\"Probability of getting BB is \", (6/10 * 5/9))\n",
    "print(\"Probability of getting RB is \", (4/10 * 6/9))\n",
    "print(\"Probability of getting BR is \", (6/10 * 4/9))"
   ]
  },
  {
   "cell_type": "code",
   "execution_count": null,
   "metadata": {},
   "outputs": [],
   "source": []
  }
 ],
 "metadata": {
  "kernelspec": {
   "display_name": "Python 3",
   "language": "python",
   "name": "python3"
  },
  "language_info": {
   "codemirror_mode": {
    "name": "ipython",
    "version": 3
   },
   "file_extension": ".py",
   "mimetype": "text/x-python",
   "name": "python",
   "nbconvert_exporter": "python",
   "pygments_lexer": "ipython3",
   "version": "3.7.1"
  }
 },
 "nbformat": 4,
 "nbformat_minor": 2
}
